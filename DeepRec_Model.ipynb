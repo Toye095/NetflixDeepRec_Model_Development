{
 "cells": [
  {
   "cell_type": "markdown",
   "id": "9279f095",
   "metadata": {},
   "source": [
    "#### Import Libraries"
   ]
  },
  {
   "cell_type": "code",
   "execution_count": 5,
   "id": "079d325f",
   "metadata": {},
   "outputs": [],
   "source": [
    "#pip install surprise"
   ]
  },
  {
   "cell_type": "code",
   "execution_count": 6,
   "id": "c5bdbe73",
   "metadata": {},
   "outputs": [],
   "source": [
    "#pip install --upgrade pip setuptools wheel"
   ]
  },
  {
   "cell_type": "code",
   "execution_count": 13,
   "id": "58910f79",
   "metadata": {},
   "outputs": [],
   "source": [
    "import pandas as pd\n",
    "import numpy as np\n",
    "from sklearn.model_selection import train_test_split\n",
    "from sklearn.linear_model import LinearRegression\n",
    "from surprise import Dataset, Reader, SVD\n",
    "from surprise.model_selection import train_test_split as surprise_tts\n",
    "from sklearn.metrics import mean_squared_error, mean_absolute_error\n",
    "from collections import defaultdict\n",
    "import matplotlib.pyplot as plt\n",
    "import pickle"
   ]
  },
  {
   "cell_type": "markdown",
   "id": "d7ecf052",
   "metadata": {},
   "source": [
    "##### 1. Load Dataset"
   ]
  },
  {
   "cell_type": "code",
   "execution_count": null,
   "id": "94747973",
   "metadata": {},
   "outputs": [],
   "source": [
    "# Load earlier cleaned and preprocessed data\n",
    "df = pd.read_csv('netflix_cleaned_data.csv')"
   ]
  },
  {
   "cell_type": "code",
   "execution_count": null,
   "id": "21e8722f",
   "metadata": {},
   "outputs": [
    {
     "data": {
      "text/html": [
       "<div>\n",
       "<style scoped>\n",
       "    .dataframe tbody tr th:only-of-type {\n",
       "        vertical-align: middle;\n",
       "    }\n",
       "\n",
       "    .dataframe tbody tr th {\n",
       "        vertical-align: top;\n",
       "    }\n",
       "\n",
       "    .dataframe thead th {\n",
       "        text-align: right;\n",
       "    }\n",
       "</style>\n",
       "<table border=\"1\" class=\"dataframe\">\n",
       "  <thead>\n",
       "    <tr style=\"text-align: right;\">\n",
       "      <th></th>\n",
       "      <th>userId</th>\n",
       "      <th>movieId</th>\n",
       "      <th>rating</th>\n",
       "      <th>hour</th>\n",
       "      <th>weekday</th>\n",
       "      <th>(no genres listed)</th>\n",
       "      <th>Action</th>\n",
       "      <th>Adventure</th>\n",
       "      <th>Animation</th>\n",
       "      <th>Children</th>\n",
       "      <th>...</th>\n",
       "      <th>Musical</th>\n",
       "      <th>Mystery</th>\n",
       "      <th>Romance</th>\n",
       "      <th>Sci-Fi</th>\n",
       "      <th>Thriller</th>\n",
       "      <th>War</th>\n",
       "      <th>Western</th>\n",
       "      <th>user_avg</th>\n",
       "      <th>user_count</th>\n",
       "      <th>movie_avg</th>\n",
       "    </tr>\n",
       "  </thead>\n",
       "  <tbody>\n",
       "    <tr>\n",
       "      <th>0</th>\n",
       "      <td>1</td>\n",
       "      <td>1</td>\n",
       "      <td>4.0</td>\n",
       "      <td>0.782609</td>\n",
       "      <td>1.0</td>\n",
       "      <td>0.0</td>\n",
       "      <td>1.0</td>\n",
       "      <td>1.0</td>\n",
       "      <td>1.0</td>\n",
       "      <td>1.0</td>\n",
       "      <td>...</td>\n",
       "      <td>0.0</td>\n",
       "      <td>0.0</td>\n",
       "      <td>0.0</td>\n",
       "      <td>0.0</td>\n",
       "      <td>0.0</td>\n",
       "      <td>0.0</td>\n",
       "      <td>0.8299</td>\n",
       "      <td>0.079164</td>\n",
       "      <td>0.760207</td>\n",
       "      <td>0.652439</td>\n",
       "    </tr>\n",
       "    <tr>\n",
       "      <th>1</th>\n",
       "      <td>1</td>\n",
       "      <td>3</td>\n",
       "      <td>4.0</td>\n",
       "      <td>0.782609</td>\n",
       "      <td>1.0</td>\n",
       "      <td>0.0</td>\n",
       "      <td>0.0</td>\n",
       "      <td>0.0</td>\n",
       "      <td>0.0</td>\n",
       "      <td>1.0</td>\n",
       "      <td>...</td>\n",
       "      <td>0.0</td>\n",
       "      <td>1.0</td>\n",
       "      <td>0.0</td>\n",
       "      <td>0.0</td>\n",
       "      <td>0.0</td>\n",
       "      <td>0.0</td>\n",
       "      <td>0.8299</td>\n",
       "      <td>0.079164</td>\n",
       "      <td>0.613248</td>\n",
       "      <td>0.155488</td>\n",
       "    </tr>\n",
       "    <tr>\n",
       "      <th>2</th>\n",
       "      <td>1</td>\n",
       "      <td>6</td>\n",
       "      <td>4.0</td>\n",
       "      <td>0.782609</td>\n",
       "      <td>1.0</td>\n",
       "      <td>1.0</td>\n",
       "      <td>0.0</td>\n",
       "      <td>0.0</td>\n",
       "      <td>0.0</td>\n",
       "      <td>0.0</td>\n",
       "      <td>...</td>\n",
       "      <td>0.0</td>\n",
       "      <td>0.0</td>\n",
       "      <td>0.0</td>\n",
       "      <td>1.0</td>\n",
       "      <td>0.0</td>\n",
       "      <td>0.0</td>\n",
       "      <td>0.8299</td>\n",
       "      <td>0.079164</td>\n",
       "      <td>0.765795</td>\n",
       "      <td>0.307927</td>\n",
       "    </tr>\n",
       "    <tr>\n",
       "      <th>3</th>\n",
       "      <td>1</td>\n",
       "      <td>47</td>\n",
       "      <td>5.0</td>\n",
       "      <td>0.826087</td>\n",
       "      <td>1.0</td>\n",
       "      <td>0.0</td>\n",
       "      <td>0.0</td>\n",
       "      <td>0.0</td>\n",
       "      <td>0.0</td>\n",
       "      <td>0.0</td>\n",
       "      <td>...</td>\n",
       "      <td>1.0</td>\n",
       "      <td>0.0</td>\n",
       "      <td>0.0</td>\n",
       "      <td>1.0</td>\n",
       "      <td>0.0</td>\n",
       "      <td>0.0</td>\n",
       "      <td>0.8299</td>\n",
       "      <td>0.079164</td>\n",
       "      <td>0.772304</td>\n",
       "      <td>0.615854</td>\n",
       "    </tr>\n",
       "    <tr>\n",
       "      <th>4</th>\n",
       "      <td>1</td>\n",
       "      <td>50</td>\n",
       "      <td>5.0</td>\n",
       "      <td>0.782609</td>\n",
       "      <td>1.0</td>\n",
       "      <td>0.0</td>\n",
       "      <td>0.0</td>\n",
       "      <td>0.0</td>\n",
       "      <td>0.0</td>\n",
       "      <td>0.0</td>\n",
       "      <td>...</td>\n",
       "      <td>1.0</td>\n",
       "      <td>0.0</td>\n",
       "      <td>0.0</td>\n",
       "      <td>1.0</td>\n",
       "      <td>0.0</td>\n",
       "      <td>0.0</td>\n",
       "      <td>0.8299</td>\n",
       "      <td>0.079164</td>\n",
       "      <td>0.830610</td>\n",
       "      <td>0.618902</td>\n",
       "    </tr>\n",
       "  </tbody>\n",
       "</table>\n",
       "<p>5 rows × 28 columns</p>\n",
       "</div>"
      ],
      "text/plain": [
       "   userId  movieId  rating      hour  weekday  (no genres listed)  Action  \\\n",
       "0       1        1     4.0  0.782609      1.0                 0.0     1.0   \n",
       "1       1        3     4.0  0.782609      1.0                 0.0     0.0   \n",
       "2       1        6     4.0  0.782609      1.0                 1.0     0.0   \n",
       "3       1       47     5.0  0.826087      1.0                 0.0     0.0   \n",
       "4       1       50     5.0  0.782609      1.0                 0.0     0.0   \n",
       "\n",
       "   Adventure  Animation  Children  ...  Musical  Mystery  Romance  Sci-Fi  \\\n",
       "0        1.0        1.0       1.0  ...      0.0      0.0      0.0     0.0   \n",
       "1        0.0        0.0       1.0  ...      0.0      1.0      0.0     0.0   \n",
       "2        0.0        0.0       0.0  ...      0.0      0.0      0.0     1.0   \n",
       "3        0.0        0.0       0.0  ...      1.0      0.0      0.0     1.0   \n",
       "4        0.0        0.0       0.0  ...      1.0      0.0      0.0     1.0   \n",
       "\n",
       "   Thriller  War  Western  user_avg  user_count  movie_avg  \n",
       "0       0.0  0.0   0.8299  0.079164    0.760207   0.652439  \n",
       "1       0.0  0.0   0.8299  0.079164    0.613248   0.155488  \n",
       "2       0.0  0.0   0.8299  0.079164    0.765795   0.307927  \n",
       "3       0.0  0.0   0.8299  0.079164    0.772304   0.615854  \n",
       "4       0.0  0.0   0.8299  0.079164    0.830610   0.618902  \n",
       "\n",
       "[5 rows x 28 columns]"
      ]
     },
     "execution_count": 9,
     "metadata": {},
     "output_type": "execute_result"
    }
   ],
   "source": [
    "# Check top rows\n",
    "df.head()"
   ]
  },
  {
   "cell_type": "code",
   "execution_count": 10,
   "id": "4505d2ed",
   "metadata": {},
   "outputs": [
    {
     "name": "stdout",
     "output_type": "stream",
     "text": [
      "Num users: 610 Num movies: 9724\n"
     ]
    }
   ],
   "source": [
    "# check distinct users and movies\n",
    "print(\"Num users:\", df['userId'].nunique(), \"Num movies:\", df['movieId'].nunique())"
   ]
  },
  {
   "cell_type": "markdown",
   "id": "21766c18",
   "metadata": {},
   "source": [
    "##### 2. Identify Feature Columns and Split Data"
   ]
  },
  {
   "cell_type": "code",
   "execution_count": null,
   "id": "bea77ab8",
   "metadata": {},
   "outputs": [],
   "source": [
    "# Separate colum features to use for training\n",
    "feature_cols = [c for c in df.columns if c not in ['userId', 'movieId', 'rating']]\n",
    "\n",
    "# Random Split of dataset into train and test\n",
    "train_df, test_df = train_test_split(df, test_size=0.2, random_state=42)\n",
    "\n",
    "# Add the feature columns and identifies ''ratings' as Target Column\n",
    "X_train, y_train = train_df[feature_cols], train_df['rating']\n",
    "X_test, y_test = test_df[feature_cols], test_df['rating']"
   ]
  },
  {
   "cell_type": "markdown",
   "id": "e21fb468",
   "metadata": {},
   "source": [
    "##### 3. Model Building"
   ]
  },
  {
   "cell_type": "markdown",
   "id": "bff09854",
   "metadata": {},
   "source": [
    "##### 3.1 Baseline Predictive Model – Linear Regression"
   ]
  },
  {
   "cell_type": "markdown",
   "id": "e4ff437f",
   "metadata": {},
   "source": [
    "Rationale\n",
    "* To learns a linear mapping between the engineered numeric features and the target variable\n",
    "* Each model output represents a weighted sum of features plus an intercept\n",
    "* Model is fitted to minimize prediction error (MSE) on the training set\n",
    "* Prediction is on learned weights providing a benchmark to compare complex models"
   ]
  },
  {
   "cell_type": "code",
   "execution_count": 14,
   "id": "dfffc5e4",
   "metadata": {},
   "outputs": [
    {
     "name": "stdout",
     "output_type": "stream",
     "text": [
      "Linear Regression RMSE: 0.8113, MAE: 0.6167\n"
     ]
    }
   ],
   "source": [
    "# Model Training\n",
    "lr = LinearRegression()\n",
    "lr.fit(X_train, y_train)\n",
    "\n",
    "# Predict on Test data\n",
    "pred_lr = lr.predict(X_test)\n",
    "\n",
    "# Evaluate Performance\n",
    "rmse_lr = mean_squared_error(y_test, pred_lr, squared=False)\n",
    "mae_lr = mean_absolute_error(y_test, pred_lr)\n",
    "print(f\"Linear Regression RMSE: {rmse_lr:.4f}, MAE: {mae_lr:.4f}\")"
   ]
  },
  {
   "cell_type": "markdown",
   "id": "63808025",
   "metadata": {},
   "source": [
    "Observations:\n",
    "* On average, predicted ratings deviated from true ratings by about 0.81 stars on a 1–5 scale\n",
    "* For instance if actual rating is 4, predicted rating is (4 - 0.81)\n",
    "* Globally a deviation of 0.86 is tolerable for recommender engines\n",
    "* 0.81 is therefore acceptable\n",
    "* While for Mean Absolute Error, predictions are off by 0.67 stars\n",
    "* To reduce the error and improve accuracy, we will adoped an advanced model i.e. SVD"
   ]
  },
  {
   "cell_type": "markdown",
   "id": "daa72087",
   "metadata": {},
   "source": [
    "##### 3.2 Collaborative Filtering Model – SVD (Surprise)"
   ]
  },
  {
   "cell_type": "markdown",
   "id": "98903253",
   "metadata": {},
   "source": [
    "Rationale\n",
    "* SVD factorizes the user–item interaction matrix into lower-dimensional latent factors\n",
    "* It uncovers patterns and preferences that explicit features can’t capture alone \n",
    "* The model is able to predict unseen ratings based on hidden similarities\n",
    "* Low computation requirement"
   ]
  },
  {
   "cell_type": "code",
   "execution_count": 15,
   "id": "4406365f",
   "metadata": {},
   "outputs": [],
   "source": [
    "# SVD Model Training\n",
    "reader = Reader(rating_scale=(1,5)) # define scale\n",
    "data = Dataset.load_from_df(df[['userId', 'movieId', 'rating']], reader) # restricts data to userid, movieid and rating\n",
    "trainset, testset = surprise_tts(data, test_size=0.2, random_state=42) # splits data\n",
    "\n",
    "# Iniialize SVD Model\n",
    "svd = SVD(n_factors=50, n_epochs=20, random_state=42)\n",
    "\n",
    "# SVD Training\n",
    "svd.fit(trainset)\n",
    "\n",
    "# SVD Prediction\n",
    "predictions = svd.test(testset)"
   ]
  },
  {
   "cell_type": "code",
   "execution_count": 16,
   "id": "64bc13ed",
   "metadata": {},
   "outputs": [
    {
     "name": "stdout",
     "output_type": "stream",
     "text": [
      "SVD RMSE: 0.8775, MAE: 0.6742\n"
     ]
    }
   ],
   "source": [
    "# Restrict SVD Model Prediction prediction\n",
    "pred_ratings = np.array([pred.est for pred in predictions])\n",
    "true_ratings = np.array([pred.r_ui for pred in predictions])\n",
    "\n",
    "# Evaluate Performance\n",
    "rmse_svd = mean_squared_error(true_ratings, pred_ratings, squared=False)\n",
    "mae_svd = mean_absolute_error(true_ratings, pred_ratings)\n",
    "print(f\"SVD RMSE: {rmse_svd:.4f}, MAE: {mae_svd:.4f}\")"
   ]
  },
  {
   "cell_type": "markdown",
   "id": "002e7022",
   "metadata": {},
   "source": [
    "Observations\n",
    "* Reduced performance when compared with Linear Regression results\n",
    "* This indicates additional features like genre, movie and user stats used in linear regression provided more context\n",
    "* 0.8775 is within tolerable range for SVD on small datasets which usually ranges from 0.85 to 0.95\n"
   ]
  },
  {
   "cell_type": "code",
   "execution_count": 17,
   "id": "bf36de48",
   "metadata": {},
   "outputs": [
    {
     "name": "stdout",
     "output_type": "stream",
     "text": [
      "SVD Precision@10: 0.5721, Recall@10: 0.6783\n"
     ]
    }
   ],
   "source": [
    "# Evaluate SVD Ranking Metrics with Precision@K and Recall@K\n",
    "def get_top_n(preds, n=10):\n",
    "    top = defaultdict(list)\n",
    "    for uid, iid, true_r, est, _ in preds:\n",
    "        top[uid].append((iid, est))\n",
    "    top_n = {uid: [iid for iid, _ in sorted(items, key=lambda x: x[1], reverse=True)[:n]] for uid, items in top.items()}\n",
    "    return top_n\n",
    "\n",
    "def precision_recall_at_k(preds, k=10, threshold=4.0):\n",
    "    top_n = get_top_n(preds, n=k)\n",
    "    actual = defaultdict(set)\n",
    "    for uid, iid, true_r, est, _ in preds:\n",
    "        if true_r >= threshold:\n",
    "            actual[uid].add(iid)\n",
    "    precisions, recalls = [], []\n",
    "    for uid, pred_iids in top_n.items():\n",
    "        act_iids = actual.get(uid, set())\n",
    "        if act_iids:\n",
    "            precisions.append(len(set(pred_iids) & act_iids) / k)\n",
    "            recalls.append(len(set(pred_iids) & act_iids) / len(act_iids))\n",
    "    return np.mean(precisions), np.mean(recalls)\n",
    "\n",
    "prec_svd, recall_svd = precision_recall_at_k([(p.uid, p.iid, p.r_ui, p.est, None) for p in predictions])\n",
    "print(f\"SVD Precision@10: {prec_svd:.4f}, Recall@10: {recall_svd:.4f}\")"
   ]
  }
 ],
 "metadata": {
  "kernelspec": {
   "display_name": "Python 3",
   "language": "python",
   "name": "python3"
  },
  "language_info": {
   "codemirror_mode": {
    "name": "ipython",
    "version": 3
   },
   "file_extension": ".py",
   "mimetype": "text/x-python",
   "name": "python",
   "nbconvert_exporter": "python",
   "pygments_lexer": "ipython3",
   "version": "3.10.0"
  }
 },
 "nbformat": 4,
 "nbformat_minor": 5
}
